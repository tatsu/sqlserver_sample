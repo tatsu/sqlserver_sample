{
 "cells": [
  {
   "cell_type": "markdown",
   "source": [
    "# 事前準備\n",
    "\n",
    "## サンプルデータベース\n",
    "\n",
    "| データベース名 | テーブル名 |\n",
    "|--------------|-----------|\n",
    "| TetDB | Worklist |\n",
    "\n",
    "| col[0] | col[1] | col[2] |\n",
    "|---------|------|----------|\n",
    "| id(int) | name | filename |\n",
    "\n",
    "``` sql\n",
    "CREATE DATABASE TetDB;\n",
    "USE TestDB;\n",
    "CREATE TABLE Worklist (id INT, name NVARCHAR(50), filename NVARCHAR(128));\n",
    "INSERT INTO Worklist VALUES(1, 'Taro Arai', '00000001.jpg');\n",
    "INSERT INTO Worklist VALUES(2, 'Hanako Arai', '00000002.jpg');\n",
    "SELECT * FROM Worklist;\n",
    "```\n",
    "\n",
    "[SQL Server チュートリアル](https://docs.microsoft.com/ja-jp/sql/sql-server/tutorials-for-sql-server-2016?view=sql-server-ver15)\n",
    "\n",
    "## ODBCドライバ\n",
    "\n",
    "SQL Serverがインストールされている環境でプログラムから操作する場合は、\n",
    "SQL Serverのネイティブドライバーがインストールされているため、\n",
    "ODBCドライバをインストールする必要はない。\n",
    "\n",
    "SQL Serverがインストールされていない環境でプログラムから操作する場合は、\n",
    "ODBCドライバをインストールしておく。\n",
    "\n",
    "[Microsoft SQL Server 用 ODBC Driver](https://docs.microsoft.com/ja-jp/sql/connect/odbc/microsoft-odbc-driver-for-sql-server?view=sql-server-ver15)\n",
    "\n",
    "## Pythonライブラリのインストール\n",
    "\n",
    "必要なライブラリをインストールしておく。"
   ],
   "metadata": {
    "collapsed": false
   }
  },
  {
   "cell_type": "code",
   "execution_count": null,
   "outputs": [],
   "source": [
    "!pip install -r requirements.txt\n"
   ],
   "metadata": {
    "collapsed": false,
    "pycharm": {
     "name": "#%%\n"
    }
   }
  },
  {
   "cell_type": "markdown",
   "source": [
    "## サンプルの実行\n",
    "\n",
    "サンプルデータベースがある状態で以下を実行する。\n",
    "\n",
    "1. データベースにアクセスしてレコードを追加したり、表示したりする。"
   ],
   "metadata": {
    "collapsed": false
   }
  },
  {
   "cell_type": "code",
   "execution_count": null,
   "outputs": [],
   "source": [
    "!python sqlserver.py"
   ],
   "metadata": {
    "collapsed": false,
    "pycharm": {
     "name": "#%%\n"
    }
   }
  },
  {
   "cell_type": "markdown",
   "source": [
    "2. エクセルから読み込んだデータを表示し、csvファイルに出力する。"
   ],
   "metadata": {
    "collapsed": false
   }
  },
  {
   "cell_type": "code",
   "execution_count": null,
   "outputs": [],
   "source": [
    "!python excel_sample.py sample/sample_data.xlsx"
   ],
   "metadata": {
    "collapsed": false,
    "pycharm": {
     "name": "#%%\n"
    }
   }
  },
  {
   "cell_type": "markdown",
   "source": [
    "3. エクセルから読み込んだデータをデータベースに追加し、csvファイルに結果を出力する。"
   ],
   "metadata": {
    "collapsed": false
   }
  },
  {
   "cell_type": "code",
   "execution_count": null,
   "outputs": [],
   "source": [
    "!python insert_excel_record.py sample/sample_data.xlsx"
   ],
   "metadata": {
    "collapsed": false,
    "pycharm": {
     "name": "#%%\n"
    }
   }
  }
 ],
 "metadata": {
  "kernelspec": {
   "display_name": "Python 3",
   "language": "python",
   "name": "python3"
  },
  "language_info": {
   "codemirror_mode": {
    "name": "ipython",
    "version": 2
   },
   "file_extension": ".py",
   "mimetype": "text/x-python",
   "name": "python",
   "nbconvert_exporter": "python",
   "pygments_lexer": "ipython2",
   "version": "2.7.6"
  }
 },
 "nbformat": 4,
 "nbformat_minor": 0
}